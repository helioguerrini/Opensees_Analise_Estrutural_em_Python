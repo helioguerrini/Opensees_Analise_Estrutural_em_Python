{
  "nbformat": 4,
  "nbformat_minor": 0,
  "metadata": {
    "colab": {
      "provenance": [],
      "authorship_tag": "ABX9TyML46/5A6v0PhQCE0MQEV6M",
      "include_colab_link": true
    },
    "kernelspec": {
      "name": "python3",
      "display_name": "Python 3"
    },
    "language_info": {
      "name": "python"
    }
  },
  "cells": [
    {
      "cell_type": "markdown",
      "metadata": {
        "id": "view-in-github",
        "colab_type": "text"
      },
      "source": [
        "<a href=\"https://colab.research.google.com/github/helioguerrini/Opensees_Analise_Estrutural_em_Python/blob/main/Viga_2D_Opensees_01.ipynb\" target=\"_parent\"><img src=\"https://colab.research.google.com/assets/colab-badge.svg\" alt=\"Open In Colab\"/></a>"
      ]
    },
    {
      "cell_type": "code",
      "execution_count": 1,
      "metadata": {
        "colab": {
          "base_uri": "https://localhost:8080/"
        },
        "id": "QcDcxb79nocv",
        "outputId": "fba6c839-d67d-470b-b371-45e016090f68"
      },
      "outputs": [
        {
          "output_type": "stream",
          "name": "stdout",
          "text": [
            "Collecting openseespy\n",
            "  Downloading openseespy-3.7.0.6-py3-none-any.whl.metadata (2.1 kB)\n",
            "Collecting openseespylinux>=3.7.0.6 (from openseespy)\n",
            "  Downloading openseespylinux-3.7.0.6-py3-none-any.whl.metadata (1.0 kB)\n",
            "Downloading openseespy-3.7.0.6-py3-none-any.whl (4.0 kB)\n",
            "Downloading openseespylinux-3.7.0.6-py3-none-any.whl (54.6 MB)\n",
            "\u001b[2K   \u001b[90m━━━━━━━━━━━━━━━━━━━━━━━━━━━━━━━━━━━━━━━━\u001b[0m \u001b[32m54.6/54.6 MB\u001b[0m \u001b[31m7.1 MB/s\u001b[0m eta \u001b[36m0:00:00\u001b[0m\n",
            "\u001b[?25hInstalling collected packages: openseespylinux, openseespy\n",
            "Successfully installed openseespy-3.7.0.6 openseespylinux-3.7.0.6\n"
          ]
        }
      ],
      "source": [
        "pip install openseespy"
      ]
    },
    {
      "cell_type": "code",
      "source": [
        "pip install opsvis"
      ],
      "metadata": {
        "colab": {
          "base_uri": "https://localhost:8080/"
        },
        "id": "TUAGEKfcrteF",
        "outputId": "5e3100b8-49e5-4681-9921-5a604ed1cb3a"
      },
      "execution_count": 2,
      "outputs": [
        {
          "output_type": "stream",
          "name": "stdout",
          "text": [
            "Collecting opsvis\n",
            "  Downloading opsvis-1.1.13-py3-none-any.whl.metadata (1.1 kB)\n",
            "Requirement already satisfied: openseespy in /usr/local/lib/python3.11/dist-packages (from opsvis) (3.7.0.6)\n",
            "Requirement already satisfied: openseespylinux>=3.7.0.6 in /usr/local/lib/python3.11/dist-packages (from openseespy->opsvis) (3.7.0.6)\n",
            "Downloading opsvis-1.1.13-py3-none-any.whl (53 kB)\n",
            "\u001b[?25l   \u001b[90m━━━━━━━━━━━━━━━━━━━━━━━━━━━━━━━━━━━━━━━━\u001b[0m \u001b[32m0.0/53.1 kB\u001b[0m \u001b[31m?\u001b[0m eta \u001b[36m-:--:--\u001b[0m\r\u001b[2K   \u001b[90m━━━━━━━━━━━━━━━━━━━━━━━━━━━━━━━━━━━━━━━━\u001b[0m \u001b[32m53.1/53.1 kB\u001b[0m \u001b[31m2.3 MB/s\u001b[0m eta \u001b[36m0:00:00\u001b[0m\n",
            "\u001b[?25hInstalling collected packages: opsvis\n",
            "Successfully installed opsvis-1.1.13\n"
          ]
        }
      ]
    },
    {
      "cell_type": "code",
      "source": [
        "# Carrega os módulos necessários\n",
        "from openseespy.opensees import *\n",
        "import opsvis as opsv\n",
        "import math\n",
        "import numpy as np\n",
        "import matplotlib.pyplot as plt"
      ],
      "metadata": {
        "id": "f73f95W3rxIy"
      },
      "execution_count": 3,
      "outputs": []
    },
    {
      "cell_type": "code",
      "source": [
        "# Limpa (deleta) modelos anteriores\n",
        "wipe()\n",
        "\n",
        "# Propriedades de seção, carga e material\n",
        "E = 200000  # Módulo de elasticidade (MPa)\n",
        "I = 1e6     # Momento de inércia (cm^4)\n",
        "A = 1.0\n",
        "L = 5.0     # Comprimento da viga (m)\n",
        "P = -10.0   # Força concentrada na extremidade livre (kN)\n",
        "\n",
        "# Modelo 2D\n",
        "model('basic', '-ndm', 2, '-ndf', 3)\n",
        "\n",
        "# Posição dos nós\n",
        "node(1, 0.0, 0.0)\n",
        "node(2, L, 0.0)\n",
        "node(3, 2*L, 0.0)\n"
      ],
      "metadata": {
        "id": "oiE_myEwvcEV"
      },
      "execution_count": 46,
      "outputs": []
    },
    {
      "cell_type": "code",
      "source": [
        "# Definição das condições de contorno\n",
        "fix(1, 1, 1, 1)\n",
        "\n",
        "opsv.plot_model()\n",
        "plt.title('Plotagem dos nós posicionados')"
      ],
      "metadata": {
        "colab": {
          "base_uri": "https://localhost:8080/",
          "height": 469
        },
        "id": "hryeu1R72_w8",
        "outputId": "0947886f-0141-4315-83bc-d76e35977acb"
      },
      "execution_count": 47,
      "outputs": [
        {
          "output_type": "execute_result",
          "data": {
            "text/plain": [
              "Text(0.5, 1.0, 'plot_model before defining elements')"
            ]
          },
          "metadata": {},
          "execution_count": 47
        },
        {
          "output_type": "display_data",
          "data": {
            "text/plain": [
              "<Figure size 640x480 with 1 Axes>"
            ],
            "image/png": "[encoded data removed]"
          },
          "metadata": {}
        }
      ]
    },
    {
      "cell_type": "code",
      "source": [
        "# Definição das seçoes da viga com as respectivas propriedades de material\n",
        "geomTransf('Linear', 1)\n",
        "section('Elastic', 1, E, I, 1.0)\n",
        "element('elasticBeamColumn', 1, 1, 2, A, E, I,1)\n",
        "element('elasticBeamColumn', 2, 2, 3, A, E, I,1)"
      ],
      "metadata": {
        "id": "dQBZctL947TJ"
      },
      "execution_count": 48,
      "outputs": []
    },
    {
      "cell_type": "code",
      "source": [
        "# Aplicação das cargas por nó\n",
        "timeSeries('Linear', 1)\n",
        "pattern('Plain', 1, 1)\n",
        "load(2, 0.0, P, 0.0)\n",
        "load(3, 0.0, P, 0.0)"
      ],
      "metadata": {
        "id": "Dq9mrufC8Ky0"
      },
      "execution_count": 49,
      "outputs": []
    },
    {
      "cell_type": "code",
      "source": [
        "# Análise estática\n",
        "system('BandGen')\n",
        "numberer('Plain')\n",
        "constraints('Plain')\n",
        "integrator('LoadControl', 1.0)\n",
        "algorithm('Linear')\n",
        "analysis('Static')\n",
        "analyze(1)"
      ],
      "metadata": {
        "colab": {
          "base_uri": "https://localhost:8080/"
        },
        "id": "bIhNSDMZ8O4L",
        "outputId": "4169a66a-6441-4f3f-e1c0-1fb415f5f013"
      },
      "execution_count": 50,
      "outputs": [
        {
          "output_type": "execute_result",
          "data": {
            "text/plain": [
              "0"
            ]
          },
          "metadata": {},
          "execution_count": 50
        }
      ]
    },
    {
      "cell_type": "code",
      "source": [
        "###################Plotagens do modelo##################\n",
        "opsv.plot_model()\n",
        "plt.title('Plote do modelo com os elementos definidos')\n",
        "\n",
        "#Ploter do modelo com as cargas aplicadas\n",
        "opsv.plot_load()\n",
        "plt.title('Plote do modelo com as cargas aplicadas')\n",
        "#Ploter do modelo deformado\n",
        "opsv.plot_defo()"
      ],
      "metadata": {
        "colab": {
          "base_uri": "https://localhost:8080/",
          "height": 1000
        },
        "id": "OfKmUMwN8cpI",
        "outputId": "891409a1-cc87-4885-edc8-8819fdc6d8e0"
      },
      "execution_count": 53,
      "outputs": [
        {
          "output_type": "execute_result",
          "data": {
            "text/plain": [
              "45714285.714285605"
            ]
          },
          "metadata": {},
          "execution_count": 53
        },
        {
          "output_type": "display_data",
          "data": {
            "text/plain": [
              "<Figure size 640x480 with 1 Axes>"
            ],
            "image/png": "[encoded data removed]"
          },
          "metadata": {}
        },
        {
          "output_type": "display_data",
          "data": {
            "text/plain": [
              "<Figure size 640x480 with 1 Axes>"
            ],
            "image/png": "[encoded data removed]"
          },
          "metadata": {}
        },
        {
          "output_type": "display_data",
          "data": {
            "text/plain": [
              "<Figure size 640x480 with 1 Axes>"
            ],
            "image/png": "[encoded data removed]"
          },
          "metadata": {}
        }
      ]
    },
    {
      "cell_type": "code",
      "source": [
        "#Imprime os resultados da análise (padrão)\n",
        "printModel()"
      ],
      "metadata": {
        "colab": {
          "base_uri": "https://localhost:8080/"
        },
        "id": "n_2S2GP59Xie",
        "outputId": "51b1bf59-4b16-4a87-c7cd-ec01a16883e9"
      },
      "execution_count": 55,
      "outputs": [
        {
          "output_type": "stream",
          "name": "stderr",
          "text": [
            "Current Domain Information\n",
            "\tCurrent Time: 1\n",
            "\tCommitted Time: 1\n",
            "NODE DATA: NumNodes: 3\n",
            "\n",
            "numComponents: 3\n",
            "\n",
            " Node: 1\n",
            "\tCoordinates  : 0 0 \n",
            "\tDisps: 0 0 0 \n",
            "\t unbalanced Load: 0 0 0 \n",
            "\tID : -1 -1 -1 \n",
            "\n",
            "\n",
            " Node: 2\n",
            "\tCoordinates  : 5 0 \n",
            "\tDisps: 0 -7.29167e-09 -2.5e-09 \n",
            "\t unbalanced Load: 0 -10 0 \n",
            "\tID : 0 1 2 \n",
            "\n",
            "\n",
            " Node: 3\n",
            "\tCoordinates  : 10 0 \n",
            "\tDisps: 0 -2.1875e-08 -3.125e-09 \n",
            "\t unbalanced Load: 0 -10 0 \n",
            "\tID : 3 4 5 \n",
            "\n",
            "ELEMENT DATA: NumEle: 2\n",
            "\n",
            "numComponents: 2\n",
            "\n",
            "ElasticBeam2d: 1\n",
            "\tConnected Nodes: 1 2 \n",
            "\tCoordTransf: 1\n",
            "\tmass density:  0, cMass: 0\n",
            "\trelease code:  0\n",
            "\tEnd 1 Forces (P V M): 0 20 150\n",
            "\tEnd 2 Forces (P V M): 0 -20 -50\n",
            "\n",
            "ElasticBeam2d: 2\n",
            "\tConnected Nodes: 2 3 \n",
            "\tCoordTransf: 1\n",
            "\tmass density:  0, cMass: 0\n",
            "\trelease code:  0\n",
            "\tEnd 1 Forces (P V M): 0 10 50\n",
            "\tEnd 2 Forces (P V M): 0 -10 -1.98952e-13\n",
            "\n",
            "SP_Constraints: numConstraints: 3\n",
            "\n",
            "numComponents: 3\n",
            "SP_Constraint: 0\t Node: 1 DOF: 1 ref value: 0 current value: 0 initial value: 0\n",
            "SP_Constraint: 1\t Node: 1 DOF: 2 ref value: 0 current value: 0 initial value: 0\n",
            "SP_Constraint: 2\t Node: 1 DOF: 3 ref value: 0 current value: 0 initial value: 0\n",
            "\n",
            "Pressure_Constraints: numConstraints: 0\n",
            "\n",
            "numComponents: 0\n",
            "\n",
            "MP_Constraints: numConstraints: 0\n",
            "\n",
            "numComponents: 0\n",
            "\n",
            "LOAD PATTERNS: numPatterns: 1\n",
            "\n",
            "\n",
            "numComponents: 1\n",
            "Load Pattern: 1\n",
            "  Scale Factor: 1\n",
            "Linear Series: constant factor: 1\n",
            "  Nodal Loads: \n",
            "\n",
            "numComponents: 2\n",
            "Nodal Load: 2 load : 0 -10 0 \n",
            "Nodal Load: 3 load : 0 -10 0 \n",
            "\n",
            "  Elemental Loads: \n",
            "\n",
            "numComponents: 0\n",
            "\n",
            "  Single Point Constraints: \n",
            "\n",
            "numComponents: 0\n",
            "\n",
            "PARAMETERS: numParameters: 0\n",
            "\n",
            "\n",
            "numComponents: 0\n"
          ]
        }
      ]
    }
  ]
}