{
  "nbformat": 4,
  "nbformat_minor": 0,
  "metadata": {
    "colab": {
      "provenance": [],
      "authorship_tag": "ABX9TyO4tJkoywwOly07dbydnVcq",
      "include_colab_link": true
    },
    "kernelspec": {
      "name": "python3",
      "display_name": "Python 3"
    },
    "language_info": {
      "name": "python"
    }
  },
  "cells": [
    {
      "cell_type": "markdown",
      "metadata": {
        "id": "view-in-github",
        "colab_type": "text"
      },
      "source": [
        "<a href=\"https://colab.research.google.com/github/helioguerrini/Opensees_Analise_Estrutural_em_Python/blob/main/Treli%C3%A7a_2D_Opensees_basica.ipynb\" target=\"_parent\"><img src=\"https://colab.research.google.com/assets/colab-badge.svg\" alt=\"Open In Colab\"/></a>"
      ]
    },
    {
      "cell_type": "code",
      "execution_count": 2,
      "metadata": {
        "id": "iKAuWRfa5BrU",
        "colab": {
          "base_uri": "https://localhost:8080/"
        },
        "outputId": "a86ba9fb-3638-4300-b21b-f815961c96bb"
      },
      "outputs": [
        {
          "output_type": "stream",
          "name": "stdout",
          "text": [
            "Requirement already satisfied: openseespy in /usr/local/lib/python3.10/dist-packages (3.7.0.6)\n",
            "Requirement already satisfied: openseespylinux>=3.7.0.6 in /usr/local/lib/python3.10/dist-packages (from openseespy) (3.7.0.6)\n"
          ]
        }
      ],
      "source": [
        "pip install openseespy\n"
      ]
    },
    {
      "cell_type": "code",
      "source": [
        "# Carrega os módulos necessários\n",
        "from openseespy.opensees import *\n",
        "import math\n",
        "import numpy as np\n",
        "import matplotlib.pyplot as plt"
      ],
      "metadata": {
        "id": "jlAZ9O-FLjDw"
      },
      "execution_count": 3,
      "outputs": []
    },
    {
      "cell_type": "code",
      "source": [
        "############## Criação e visualização de geometria #############\n",
        "################### Tabela de coordenadas nodais ###############\n",
        "#                                           nó 1    nó 2        nó n\n",
        "#Tabela de coordenadas nodais = np.array([[x1,y1],[x2,y2],...,[xn,yn]])\n",
        "nohs = np.array([[0.,0.],[4.,0.],[4.,6.]])\n",
        "\n",
        "### Matriz de conectividade - Conexão das Barras da Treliça ###\n",
        "barras = np.array([[1,3],[2,3],[1,2]])\n",
        "\n",
        "# Visualização do modelo da treliça\n",
        "fig = plt.figure()\n",
        "axes = fig.add_axes([0.05,0.05,1,1])\n",
        "fig.gca().set_aspect('equal', adjustable='box')\n",
        "\n",
        "#Plot barras\n",
        "for brr in barras:\n",
        "    nohs_i = brr[0] #Node number for node i of this member\n",
        "    nohs_j = brr[1] #Node number for node j of this member\n",
        "\n",
        "    ix = nohs[nohs_i-1,0] #x-coord of node i of this member\n",
        "    iy = nohs[nohs_i-1,1] #y-coord of node i of this member\n",
        "    jx = nohs[nohs_j-1,0] #x-coord of node j of this member\n",
        "    jy = nohs[nohs_j-1,1] #y-coord of node j of this member\n",
        "\n",
        "    axes.plot([ix,jx],[iy,jy],'b') #Member\n",
        "\n",
        "#Plot nohs\n",
        "for n in nohs:\n",
        "    axes.plot([n[0]],[n[1]],'bo')\n",
        "\n",
        "axes.set_xlabel('Distância (m)')\n",
        "axes.set_ylabel('Distância (m)')\n",
        "axes.set_title('Análise estrutural - Treliça')\n",
        "axes.grid()\n",
        "plt.show()\n"
      ],
      "metadata": {
        "colab": {
          "base_uri": "https://localhost:8080/",
          "height": 583
        },
        "id": "W92A_FNshWkj",
        "outputId": "7af5a93a-c088-4131-c721-226e06ee8647"
      },
      "execution_count": 4,
      "outputs": [
        {
          "output_type": "display_data",
          "data": {
            "text/plain": [
              "<Figure size 640x480 with 1 Axes>"
            ],
            "image/png": "[encoded data removed]"
          },
          "metadata": {}
        }
      ]
    },
    {
      "cell_type": "code",
      "source": [
        "# Limpa o modelo anterior\n",
        "wipe()"
      ],
      "metadata": {
        "id": "mkxwKwK3PRd5"
      },
      "execution_count": 5,
      "outputs": []
    },
    {
      "cell_type": "code",
      "source": [
        "# Definindo o modelo\n",
        "model('basic', '-ndm', 2, '-ndf', 2)  # Modelo 2D com 2 graus de liberdade por nó"
      ],
      "metadata": {
        "id": "kqws_MbmPlnl"
      },
      "execution_count": 6,
      "outputs": []
    },
    {
      "cell_type": "code",
      "source": [
        "# Inserção das coordenadas nodais no modelo\n",
        "for i in range(len(nohs)):\n",
        "    node(i+1, nohs[i,0], nohs[i,1])"
      ],
      "metadata": {
        "id": "3rStdMU0Qadw"
      },
      "execution_count": 7,
      "outputs": []
    },
    {
      "cell_type": "code",
      "source": [
        "# Definindo propriedades do material (E, área)\n",
        "E = 200e9  # Módulo de elasticidade (Pa)\n",
        "A = 2.3e-3  # Área da seção transversal (m²)"
      ],
      "metadata": {
        "id": "Oxd8-a3cQlbb"
      },
      "execution_count": 8,
      "outputs": []
    },
    {
      "cell_type": "code",
      "source": [
        "uniaxialMaterial('Elastic', 1, E)  # Material elástico"
      ],
      "metadata": {
        "id": "Skh-gV8RQr-k"
      },
      "execution_count": 9,
      "outputs": []
    },
    {
      "cell_type": "code",
      "source": [
        "# Inserção da conectividade entre as barras no modelo\n",
        "for idx, barNo in enumerate(barras):\n",
        "  # Elementos da treliça ('Truss', Barra, nó_i, nó_f, seção A, material)\n",
        "  element('Truss', idx+1, int(barNo[0]), int(barNo[1]), A, 1)  # Barra 1"
      ],
      "metadata": {
        "id": "7wGial8zQtTq"
      },
      "execution_count": 10,
      "outputs": []
    },
    {
      "cell_type": "code",
      "source": [
        "# Restrições (nó: tag, ux, uy)\n",
        "fix(1, 1, 1)  # Nó 1 fixo em x e y\n",
        "fix(2, 0, 1)  # Nó 2 fixo em y"
      ],
      "metadata": {
        "id": "4m084Zs5Qgi4"
      },
      "execution_count": 11,
      "outputs": []
    },
    {
      "cell_type": "code",
      "source": [
        "# Aplicando cargas\n",
        "timeSeries('Linear', 1)\n",
        "pattern('Plain', 1, 1)\n",
        "load(3, 12000.0, 0.0)  # Carga de 12 kN no nó 3 (direção x)\n",
        "#load(2, 12000.0, 0.0)"
      ],
      "metadata": {
        "id": "fIdF3ibVQyU5"
      },
      "execution_count": 12,
      "outputs": []
    },
    {
      "cell_type": "code",
      "source": [
        "# Configurações do analisador\n",
        "system('BandSPD')  # Solução direta\n",
        "numberer('Plain')  # Reordenação para eficiência\n",
        "constraints('Plain')  # Condições de contorno simples\n",
        "integrator('LoadControl', 1.0)  # Controle de carga estática\n",
        "algorithm('Linear')  # Linear\n",
        "analysis('Static')  # Análise estática"
      ],
      "metadata": {
        "id": "ruBwLWXrQ4l1"
      },
      "execution_count": 13,
      "outputs": []
    },
    {
      "cell_type": "code",
      "source": [
        "# Executando a análise\n",
        "analyze(1)"
      ],
      "metadata": {
        "colab": {
          "base_uri": "https://localhost:8080/"
        },
        "id": "C_uw-PncQ7sR",
        "outputId": "69d63f16-ca77-4bca-b0b7-232cf5265b2a"
      },
      "execution_count": 14,
      "outputs": [
        {
          "output_type": "execute_result",
          "data": {
            "text/plain": [
              "0"
            ]
          },
          "metadata": {},
          "execution_count": 14
        }
      ]
    },
    {
      "cell_type": "code",
      "source": [
        "# Resultados\n",
        "print(\"\\nDeslocamentos dos Nós:\")\n",
        "for i in range(1, len(nohs)+1):\n",
        "    print(f\"Nó {i}: {nodeDisp(i)}\")  # Deslocamentos nos nós\n",
        "\n",
        "print(\"\\nForças axiais nas barras:\")\n",
        "for i in range(1, len(barras)+1):\n",
        "    x1, y1 = nodeCoord(int(barras[i-1][0]))\n",
        "    x2, y2 = nodeCoord(int(barras[i-1][1]))\n",
        "    theta = math.atan2(y2 - y1, x2 - x1)\n",
        "    forces = eleResponse(i, 'force')\n",
        "    Faxial = (math.cos(theta))*forces[2] + (math.sin(theta))*forces[3]\n",
        "    print(f\"Barra {i}: Força axial = {Faxial} N, Tensão normal = {(Faxial/A)*10**-6} MPa\")\n",
        "    #print(f\"Barra {i}: f1x = {forces[0]} N, f1y = {forces[1]} N, f2x = {forces[2]} N, f2y = {forces[3]} N\")"
      ],
      "metadata": {
        "colab": {
          "base_uri": "https://localhost:8080/"
        },
        "id": "zEqT0djxQ-0K",
        "outputId": "21d45a91-2ac4-4237-a695-092f1477d556"
      },
      "execution_count": 15,
      "outputs": [
        {
          "output_type": "stream",
          "name": "stdout",
          "text": [
            "\n",
            "Deslocamentos dos Nós:\n",
            "Nó 1: [0.0, 0.0]\n",
            "Nó 2: [0.0, 0.0]\n",
            "Nó 3: [0.0009635499988830239, -0.0002347826086956521]\n",
            "\n",
            "Forças axiais nas barras:\n",
            "Barra 1: Força axial = 21633.30765278393 N, Tensão normal = 9.405785935993011 MPa\n",
            "Barra 2: Força axial = -17999.999999999996 N, Tensão normal = -7.8260869565217375 MPa\n",
            "Barra 3: Força axial = 0.0 N, Tensão normal = 0.0 MPa\n"
          ]
        }
      ]
    }
  ]
}